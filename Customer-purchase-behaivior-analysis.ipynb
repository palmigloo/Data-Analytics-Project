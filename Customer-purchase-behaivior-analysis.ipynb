{
 "cells": [
  {
   "cell_type": "markdown",
   "metadata": {},
   "source": [
    "## Quantium Virtual Internship - Retail Strategy and Analytics \n",
    "### Data preparation and customer analytics \n",
    "- 1. EDA\n",
    "- 2. Data cleaning\n",
    "- 3. Data visualization and analysis\n",
    "- 4. Present insights \n",
    "    \n"
   ]
  },
  {
   "cell_type": "markdown",
   "metadata": {},
   "source": [
    "### 1.General statistics and EDA"
   ]
  },
  {
   "cell_type": "code",
   "execution_count": 1,
   "metadata": {},
   "outputs": [],
   "source": [
    "# Import modules \n",
    "import pandas as pd\n",
    "import numpy as np \n",
    "import os\n",
    "from datetime import datetime\n",
    "import xlrd\n",
    "import matplotlib.pyplot as plt\n",
    "import warnings\n",
    "import seaborn as sb\n",
    "import researchpy as rp\n",
    "import scipy.stats as stats\n",
    "warnings.filterwarnings('ignore')"
   ]
  },
  {
   "cell_type": "code",
   "execution_count": 66,
   "metadata": {},
   "outputs": [],
   "source": [
    "sb.set_style(\"darkgrid\")\n",
    "%matplotlib inline"
   ]
  },
  {
   "cell_type": "code",
   "execution_count": 3,
   "metadata": {},
   "outputs": [],
   "source": [
    "# set data directory \n",
    "DATA_DIR = os.path.join('..','Quantium')\n",
    "CUSTOMER_DATA = os.path.join(DATA_DIR,'QVI_purchase_behaviour.csv')\n",
    "TRANSACTION_DATA = os.path.join(DATA_DIR,'QVI_transaction_data.xlsx')"
   ]
  },
  {
   "cell_type": "code",
   "execution_count": 4,
   "metadata": {},
   "outputs": [],
   "source": [
    "#Load data \n",
    "customer = pd.read_csv(CUSTOMER_DATA)\n",
    "transaction = pd.read_excel(TRANSACTION_DATA)"
   ]
  },
  {
   "cell_type": "markdown",
   "metadata": {},
   "source": [
    "### Check customer dataset and data cleaning/transformation"
   ]
  },
  {
   "cell_type": "code",
   "execution_count": 5,
   "metadata": {},
   "outputs": [
    {
     "data": {
      "text/html": [
       "<div>\n",
       "<style scoped>\n",
       "    .dataframe tbody tr th:only-of-type {\n",
       "        vertical-align: middle;\n",
       "    }\n",
       "\n",
       "    .dataframe tbody tr th {\n",
       "        vertical-align: top;\n",
       "    }\n",
       "\n",
       "    .dataframe thead th {\n",
       "        text-align: right;\n",
       "    }\n",
       "</style>\n",
       "<table border=\"1\" class=\"dataframe\">\n",
       "  <thead>\n",
       "    <tr style=\"text-align: right;\">\n",
       "      <th></th>\n",
       "      <th>LYLTY_CARD_NBR</th>\n",
       "      <th>LIFESTAGE</th>\n",
       "      <th>PREMIUM_CUSTOMER</th>\n",
       "    </tr>\n",
       "  </thead>\n",
       "  <tbody>\n",
       "    <tr>\n",
       "      <th>0</th>\n",
       "      <td>1000</td>\n",
       "      <td>YOUNG SINGLES/COUPLES</td>\n",
       "      <td>Premium</td>\n",
       "    </tr>\n",
       "    <tr>\n",
       "      <th>1</th>\n",
       "      <td>1002</td>\n",
       "      <td>YOUNG SINGLES/COUPLES</td>\n",
       "      <td>Mainstream</td>\n",
       "    </tr>\n",
       "    <tr>\n",
       "      <th>2</th>\n",
       "      <td>1003</td>\n",
       "      <td>YOUNG FAMILIES</td>\n",
       "      <td>Budget</td>\n",
       "    </tr>\n",
       "    <tr>\n",
       "      <th>3</th>\n",
       "      <td>1004</td>\n",
       "      <td>OLDER SINGLES/COUPLES</td>\n",
       "      <td>Mainstream</td>\n",
       "    </tr>\n",
       "    <tr>\n",
       "      <th>4</th>\n",
       "      <td>1005</td>\n",
       "      <td>MIDAGE SINGLES/COUPLES</td>\n",
       "      <td>Mainstream</td>\n",
       "    </tr>\n",
       "  </tbody>\n",
       "</table>\n",
       "</div>"
      ],
      "text/plain": [
       "   LYLTY_CARD_NBR               LIFESTAGE PREMIUM_CUSTOMER\n",
       "0            1000   YOUNG SINGLES/COUPLES          Premium\n",
       "1            1002   YOUNG SINGLES/COUPLES       Mainstream\n",
       "2            1003          YOUNG FAMILIES           Budget\n",
       "3            1004   OLDER SINGLES/COUPLES       Mainstream\n",
       "4            1005  MIDAGE SINGLES/COUPLES       Mainstream"
      ]
     },
     "execution_count": 5,
     "metadata": {},
     "output_type": "execute_result"
    }
   ],
   "source": [
    "customer.head(5)"
   ]
  },
  {
   "cell_type": "code",
   "execution_count": 6,
   "metadata": {},
   "outputs": [
    {
     "name": "stdout",
     "output_type": "stream",
     "text": [
      "<class 'pandas.core.frame.DataFrame'>\n",
      "RangeIndex: 72637 entries, 0 to 72636\n",
      "Data columns (total 3 columns):\n",
      " #   Column            Non-Null Count  Dtype \n",
      "---  ------            --------------  ----- \n",
      " 0   LYLTY_CARD_NBR    72637 non-null  int64 \n",
      " 1   LIFESTAGE         72637 non-null  object\n",
      " 2   PREMIUM_CUSTOMER  72637 non-null  object\n",
      "dtypes: int64(1), object(2)\n",
      "memory usage: 1.7+ MB\n"
     ]
    }
   ],
   "source": [
    "customer.info()"
   ]
  },
  {
   "cell_type": "code",
   "execution_count": 7,
   "metadata": {},
   "outputs": [
    {
     "data": {
      "text/plain": [
       "LYLTY_CARD_NBR      72637\n",
       "LIFESTAGE               7\n",
       "PREMIUM_CUSTOMER        3\n",
       "dtype: int64"
      ]
     },
     "execution_count": 7,
     "metadata": {},
     "output_type": "execute_result"
    }
   ],
   "source": [
    "customer.nunique()"
   ]
  },
  {
   "cell_type": "code",
   "execution_count": 8,
   "metadata": {},
   "outputs": [],
   "source": [
    "# Convert LIFESTAGE and PREMIUM_CUSTOMER TO Categorical data to facilite further groupby operations\n",
    "customer = customer.astype({'LIFESTAGE': 'category', 'PREMIUM_CUSTOMER': 'category'})"
   ]
  },
  {
   "cell_type": "markdown",
   "metadata": {},
   "source": [
    "### Check transaction dataset and data cleaning/transformation"
   ]
  },
  {
   "cell_type": "code",
   "execution_count": 9,
   "metadata": {},
   "outputs": [
    {
     "data": {
      "text/plain": [
       "Kettle Mozzarella   Basil & Pesto 175g      3304\n",
       "Kettle Tortilla ChpsHny&Jlpno Chili 150g    3296\n",
       "Cobs Popd Swt/Chlli &Sr/Cream Chips 110g    3269\n",
       "Tyrrells Crisps     Ched & Chives 165g      3268\n",
       "Cobs Popd Sea Salt  Chips 110g              3265\n",
       "                                            ... \n",
       "RRD Pc Sea Salt     165g                    1431\n",
       "Woolworths Medium   Salsa 300g              1430\n",
       "NCC Sour Cream &    Garden Chives 175g      1419\n",
       "French Fries Potato Chips 175g              1418\n",
       "WW Crinkle Cut      Original 175g           1410\n",
       "Name: PROD_NAME, Length: 114, dtype: int64"
      ]
     },
     "execution_count": 9,
     "metadata": {},
     "output_type": "execute_result"
    }
   ],
   "source": [
    "transaction.PROD_NAME.value_counts()"
   ]
  },
  {
   "cell_type": "code",
   "execution_count": 10,
   "metadata": {
    "scrolled": true
   },
   "outputs": [
    {
     "data": {
      "text/html": [
       "<div>\n",
       "<style scoped>\n",
       "    .dataframe tbody tr th:only-of-type {\n",
       "        vertical-align: middle;\n",
       "    }\n",
       "\n",
       "    .dataframe tbody tr th {\n",
       "        vertical-align: top;\n",
       "    }\n",
       "\n",
       "    .dataframe thead th {\n",
       "        text-align: right;\n",
       "    }\n",
       "</style>\n",
       "<table border=\"1\" class=\"dataframe\">\n",
       "  <thead>\n",
       "    <tr style=\"text-align: right;\">\n",
       "      <th></th>\n",
       "      <th>DATE</th>\n",
       "      <th>STORE_NBR</th>\n",
       "      <th>LYLTY_CARD_NBR</th>\n",
       "      <th>TXN_ID</th>\n",
       "      <th>PROD_NBR</th>\n",
       "      <th>PROD_NAME</th>\n",
       "      <th>PROD_QTY</th>\n",
       "      <th>TOT_SALES</th>\n",
       "    </tr>\n",
       "  </thead>\n",
       "  <tbody>\n",
       "    <tr>\n",
       "      <th>0</th>\n",
       "      <td>43390</td>\n",
       "      <td>1</td>\n",
       "      <td>1000</td>\n",
       "      <td>1</td>\n",
       "      <td>5</td>\n",
       "      <td>Natural Chip        Compny SeaSalt175g</td>\n",
       "      <td>2</td>\n",
       "      <td>6.0</td>\n",
       "    </tr>\n",
       "    <tr>\n",
       "      <th>1</th>\n",
       "      <td>43599</td>\n",
       "      <td>1</td>\n",
       "      <td>1307</td>\n",
       "      <td>348</td>\n",
       "      <td>66</td>\n",
       "      <td>CCs Nacho Cheese    175g</td>\n",
       "      <td>3</td>\n",
       "      <td>6.3</td>\n",
       "    </tr>\n",
       "    <tr>\n",
       "      <th>2</th>\n",
       "      <td>43605</td>\n",
       "      <td>1</td>\n",
       "      <td>1343</td>\n",
       "      <td>383</td>\n",
       "      <td>61</td>\n",
       "      <td>Smiths Crinkle Cut  Chips Chicken 170g</td>\n",
       "      <td>2</td>\n",
       "      <td>2.9</td>\n",
       "    </tr>\n",
       "    <tr>\n",
       "      <th>3</th>\n",
       "      <td>43329</td>\n",
       "      <td>2</td>\n",
       "      <td>2373</td>\n",
       "      <td>974</td>\n",
       "      <td>69</td>\n",
       "      <td>Smiths Chip Thinly  S/Cream&amp;Onion 175g</td>\n",
       "      <td>5</td>\n",
       "      <td>15.0</td>\n",
       "    </tr>\n",
       "    <tr>\n",
       "      <th>4</th>\n",
       "      <td>43330</td>\n",
       "      <td>2</td>\n",
       "      <td>2426</td>\n",
       "      <td>1038</td>\n",
       "      <td>108</td>\n",
       "      <td>Kettle Tortilla ChpsHny&amp;Jlpno Chili 150g</td>\n",
       "      <td>3</td>\n",
       "      <td>13.8</td>\n",
       "    </tr>\n",
       "  </tbody>\n",
       "</table>\n",
       "</div>"
      ],
      "text/plain": [
       "    DATE  STORE_NBR  LYLTY_CARD_NBR  TXN_ID  PROD_NBR  \\\n",
       "0  43390          1            1000       1         5   \n",
       "1  43599          1            1307     348        66   \n",
       "2  43605          1            1343     383        61   \n",
       "3  43329          2            2373     974        69   \n",
       "4  43330          2            2426    1038       108   \n",
       "\n",
       "                                  PROD_NAME  PROD_QTY  TOT_SALES  \n",
       "0    Natural Chip        Compny SeaSalt175g         2        6.0  \n",
       "1                  CCs Nacho Cheese    175g         3        6.3  \n",
       "2    Smiths Crinkle Cut  Chips Chicken 170g         2        2.9  \n",
       "3    Smiths Chip Thinly  S/Cream&Onion 175g         5       15.0  \n",
       "4  Kettle Tortilla ChpsHny&Jlpno Chili 150g         3       13.8  "
      ]
     },
     "execution_count": 10,
     "metadata": {},
     "output_type": "execute_result"
    }
   ],
   "source": [
    "transaction.head()"
   ]
  },
  {
   "cell_type": "code",
   "execution_count": 11,
   "metadata": {},
   "outputs": [
    {
     "name": "stdout",
     "output_type": "stream",
     "text": [
      "<class 'pandas.core.frame.DataFrame'>\n",
      "RangeIndex: 264836 entries, 0 to 264835\n",
      "Data columns (total 8 columns):\n",
      " #   Column          Non-Null Count   Dtype  \n",
      "---  ------          --------------   -----  \n",
      " 0   DATE            264836 non-null  int64  \n",
      " 1   STORE_NBR       264836 non-null  int64  \n",
      " 2   LYLTY_CARD_NBR  264836 non-null  int64  \n",
      " 3   TXN_ID          264836 non-null  int64  \n",
      " 4   PROD_NBR        264836 non-null  int64  \n",
      " 5   PROD_NAME       264836 non-null  object \n",
      " 6   PROD_QTY        264836 non-null  int64  \n",
      " 7   TOT_SALES       264836 non-null  float64\n",
      "dtypes: float64(1), int64(6), object(1)\n",
      "memory usage: 16.2+ MB\n"
     ]
    }
   ],
   "source": [
    "transaction.info()"
   ]
  },
  {
   "cell_type": "code",
   "execution_count": 12,
   "metadata": {},
   "outputs": [],
   "source": [
    "# convert date from excel int format to datetime format\n",
    "transaction['DATE'] = transaction['DATE'].apply(lambda s: xlrd.xldate.xldate_as_datetime(s, 0))"
   ]
  },
  {
   "cell_type": "code",
   "execution_count": 13,
   "metadata": {},
   "outputs": [
    {
     "data": {
      "text/plain": [
       "DATE                 364\n",
       "STORE_NBR            272\n",
       "LYLTY_CARD_NBR     72637\n",
       "TXN_ID            263127\n",
       "PROD_NBR             114\n",
       "PROD_NAME            114\n",
       "PROD_QTY               6\n",
       "TOT_SALES            112\n",
       "dtype: int64"
      ]
     },
     "execution_count": 13,
     "metadata": {},
     "output_type": "execute_result"
    }
   ],
   "source": [
    "transaction.nunique()"
   ]
  },
  {
   "cell_type": "code",
   "execution_count": 14,
   "metadata": {},
   "outputs": [],
   "source": [
    "# Convert columns to categorical type to save space and facilite further analysis \n",
    "transaction = transaction.astype({'STORE_NBR': 'category', 'PROD_NBR': 'category', 'PROD_NAME':'category'})"
   ]
  },
  {
   "cell_type": "code",
   "execution_count": 15,
   "metadata": {},
   "outputs": [
    {
     "data": {
      "text/html": [
       "<div>\n",
       "<style scoped>\n",
       "    .dataframe tbody tr th:only-of-type {\n",
       "        vertical-align: middle;\n",
       "    }\n",
       "\n",
       "    .dataframe tbody tr th {\n",
       "        vertical-align: top;\n",
       "    }\n",
       "\n",
       "    .dataframe thead th {\n",
       "        text-align: right;\n",
       "    }\n",
       "</style>\n",
       "<table border=\"1\" class=\"dataframe\">\n",
       "  <thead>\n",
       "    <tr style=\"text-align: right;\">\n",
       "      <th></th>\n",
       "      <th>LYLTY_CARD_NBR</th>\n",
       "      <th>TXN_ID</th>\n",
       "      <th>PROD_QTY</th>\n",
       "      <th>TOT_SALES</th>\n",
       "    </tr>\n",
       "  </thead>\n",
       "  <tbody>\n",
       "    <tr>\n",
       "      <th>count</th>\n",
       "      <td>2.648360e+05</td>\n",
       "      <td>2.648360e+05</td>\n",
       "      <td>264836.000000</td>\n",
       "      <td>264836.000000</td>\n",
       "    </tr>\n",
       "    <tr>\n",
       "      <th>mean</th>\n",
       "      <td>1.355495e+05</td>\n",
       "      <td>1.351583e+05</td>\n",
       "      <td>1.907309</td>\n",
       "      <td>7.304200</td>\n",
       "    </tr>\n",
       "    <tr>\n",
       "      <th>std</th>\n",
       "      <td>8.057998e+04</td>\n",
       "      <td>7.813303e+04</td>\n",
       "      <td>0.643654</td>\n",
       "      <td>3.083226</td>\n",
       "    </tr>\n",
       "    <tr>\n",
       "      <th>min</th>\n",
       "      <td>1.000000e+03</td>\n",
       "      <td>1.000000e+00</td>\n",
       "      <td>1.000000</td>\n",
       "      <td>1.500000</td>\n",
       "    </tr>\n",
       "    <tr>\n",
       "      <th>25%</th>\n",
       "      <td>7.002100e+04</td>\n",
       "      <td>6.760150e+04</td>\n",
       "      <td>2.000000</td>\n",
       "      <td>5.400000</td>\n",
       "    </tr>\n",
       "    <tr>\n",
       "      <th>50%</th>\n",
       "      <td>1.303575e+05</td>\n",
       "      <td>1.351375e+05</td>\n",
       "      <td>2.000000</td>\n",
       "      <td>7.400000</td>\n",
       "    </tr>\n",
       "    <tr>\n",
       "      <th>75%</th>\n",
       "      <td>2.030942e+05</td>\n",
       "      <td>2.027012e+05</td>\n",
       "      <td>2.000000</td>\n",
       "      <td>9.200000</td>\n",
       "    </tr>\n",
       "    <tr>\n",
       "      <th>max</th>\n",
       "      <td>2.373711e+06</td>\n",
       "      <td>2.415841e+06</td>\n",
       "      <td>200.000000</td>\n",
       "      <td>650.000000</td>\n",
       "    </tr>\n",
       "  </tbody>\n",
       "</table>\n",
       "</div>"
      ],
      "text/plain": [
       "       LYLTY_CARD_NBR        TXN_ID       PROD_QTY      TOT_SALES\n",
       "count    2.648360e+05  2.648360e+05  264836.000000  264836.000000\n",
       "mean     1.355495e+05  1.351583e+05       1.907309       7.304200\n",
       "std      8.057998e+04  7.813303e+04       0.643654       3.083226\n",
       "min      1.000000e+03  1.000000e+00       1.000000       1.500000\n",
       "25%      7.002100e+04  6.760150e+04       2.000000       5.400000\n",
       "50%      1.303575e+05  1.351375e+05       2.000000       7.400000\n",
       "75%      2.030942e+05  2.027012e+05       2.000000       9.200000\n",
       "max      2.373711e+06  2.415841e+06     200.000000     650.000000"
      ]
     },
     "execution_count": 15,
     "metadata": {},
     "output_type": "execute_result"
    }
   ],
   "source": [
    "transaction.describe()"
   ]
  },
  {
   "cell_type": "code",
   "execution_count": 16,
   "metadata": {},
   "outputs": [
    {
     "data": {
      "text/html": [
       "<div>\n",
       "<style scoped>\n",
       "    .dataframe tbody tr th:only-of-type {\n",
       "        vertical-align: middle;\n",
       "    }\n",
       "\n",
       "    .dataframe tbody tr th {\n",
       "        vertical-align: top;\n",
       "    }\n",
       "\n",
       "    .dataframe thead th {\n",
       "        text-align: right;\n",
       "    }\n",
       "</style>\n",
       "<table border=\"1\" class=\"dataframe\">\n",
       "  <thead>\n",
       "    <tr style=\"text-align: right;\">\n",
       "      <th></th>\n",
       "      <th>DATE</th>\n",
       "      <th>STORE_NBR</th>\n",
       "      <th>LYLTY_CARD_NBR</th>\n",
       "      <th>TXN_ID</th>\n",
       "      <th>PROD_NBR</th>\n",
       "      <th>PROD_NAME</th>\n",
       "      <th>PROD_QTY</th>\n",
       "      <th>TOT_SALES</th>\n",
       "    </tr>\n",
       "  </thead>\n",
       "  <tbody>\n",
       "    <tr>\n",
       "      <th>69762</th>\n",
       "      <td>2018-08-19</td>\n",
       "      <td>226</td>\n",
       "      <td>226000</td>\n",
       "      <td>226201</td>\n",
       "      <td>4</td>\n",
       "      <td>Dorito Corn Chp     Supreme 380g</td>\n",
       "      <td>200</td>\n",
       "      <td>650.0</td>\n",
       "    </tr>\n",
       "    <tr>\n",
       "      <th>69763</th>\n",
       "      <td>2019-05-20</td>\n",
       "      <td>226</td>\n",
       "      <td>226000</td>\n",
       "      <td>226210</td>\n",
       "      <td>4</td>\n",
       "      <td>Dorito Corn Chp     Supreme 380g</td>\n",
       "      <td>200</td>\n",
       "      <td>650.0</td>\n",
       "    </tr>\n",
       "  </tbody>\n",
       "</table>\n",
       "</div>"
      ],
      "text/plain": [
       "            DATE STORE_NBR  LYLTY_CARD_NBR  TXN_ID PROD_NBR  \\\n",
       "69762 2018-08-19       226          226000  226201        4   \n",
       "69763 2019-05-20       226          226000  226210        4   \n",
       "\n",
       "                              PROD_NAME  PROD_QTY  TOT_SALES  \n",
       "69762  Dorito Corn Chp     Supreme 380g       200      650.0  \n",
       "69763  Dorito Corn Chp     Supreme 380g       200      650.0  "
      ]
     },
     "execution_count": 16,
     "metadata": {},
     "output_type": "execute_result"
    }
   ],
   "source": [
    "# Check the biggest purchase, outlier?\n",
    "transaction.loc[transaction.PROD_QTY == 200]"
   ]
  },
  {
   "cell_type": "code",
   "execution_count": 17,
   "metadata": {
    "scrolled": true
   },
   "outputs": [],
   "source": [
    "# Remove the outliers, since this is not a regular transaction \n",
    "transaction.drop(69762,inplace = True)\n",
    "transaction.drop(69763, inplace = True)"
   ]
  },
  {
   "cell_type": "code",
   "execution_count": 18,
   "metadata": {},
   "outputs": [
    {
     "data": {
      "text/html": [
       "<div>\n",
       "<style scoped>\n",
       "    .dataframe tbody tr th:only-of-type {\n",
       "        vertical-align: middle;\n",
       "    }\n",
       "\n",
       "    .dataframe tbody tr th {\n",
       "        vertical-align: top;\n",
       "    }\n",
       "\n",
       "    .dataframe thead th {\n",
       "        text-align: right;\n",
       "    }\n",
       "</style>\n",
       "<table border=\"1\" class=\"dataframe\">\n",
       "  <thead>\n",
       "    <tr style=\"text-align: right;\">\n",
       "      <th></th>\n",
       "      <th>LYLTY_CARD_NBR</th>\n",
       "    </tr>\n",
       "    <tr>\n",
       "      <th>DATE</th>\n",
       "      <th></th>\n",
       "    </tr>\n",
       "  </thead>\n",
       "  <tbody>\n",
       "    <tr>\n",
       "      <th>2018-07-01</th>\n",
       "      <td>724</td>\n",
       "    </tr>\n",
       "    <tr>\n",
       "      <th>2018-07-02</th>\n",
       "      <td>711</td>\n",
       "    </tr>\n",
       "    <tr>\n",
       "      <th>2018-07-03</th>\n",
       "      <td>722</td>\n",
       "    </tr>\n",
       "    <tr>\n",
       "      <th>2018-07-04</th>\n",
       "      <td>714</td>\n",
       "    </tr>\n",
       "    <tr>\n",
       "      <th>2018-07-05</th>\n",
       "      <td>712</td>\n",
       "    </tr>\n",
       "    <tr>\n",
       "      <th>...</th>\n",
       "      <td>...</td>\n",
       "    </tr>\n",
       "    <tr>\n",
       "      <th>2019-06-26</th>\n",
       "      <td>723</td>\n",
       "    </tr>\n",
       "    <tr>\n",
       "      <th>2019-06-27</th>\n",
       "      <td>709</td>\n",
       "    </tr>\n",
       "    <tr>\n",
       "      <th>2019-06-28</th>\n",
       "      <td>730</td>\n",
       "    </tr>\n",
       "    <tr>\n",
       "      <th>2019-06-29</th>\n",
       "      <td>745</td>\n",
       "    </tr>\n",
       "    <tr>\n",
       "      <th>2019-06-30</th>\n",
       "      <td>744</td>\n",
       "    </tr>\n",
       "  </tbody>\n",
       "</table>\n",
       "<p>364 rows × 1 columns</p>\n",
       "</div>"
      ],
      "text/plain": [
       "            LYLTY_CARD_NBR\n",
       "DATE                      \n",
       "2018-07-01             724\n",
       "2018-07-02             711\n",
       "2018-07-03             722\n",
       "2018-07-04             714\n",
       "2018-07-05             712\n",
       "...                    ...\n",
       "2019-06-26             723\n",
       "2019-06-27             709\n",
       "2019-06-28             730\n",
       "2019-06-29             745\n",
       "2019-06-30             744\n",
       "\n",
       "[364 rows x 1 columns]"
      ]
     },
     "execution_count": 18,
     "metadata": {},
     "output_type": "execute_result"
    }
   ],
   "source": [
    "transaction_by_date = transaction.groupby('DATE').LYLTY_CARD_NBR.count().to_frame()\n",
    "transaction_by_date"
   ]
  },
  {
   "cell_type": "code",
   "execution_count": 186,
   "metadata": {},
   "outputs": [],
   "source": [
    "test = transaction.copy()\n",
    "test.set_index('DATE',inplace=True)"
   ]
  },
  {
   "cell_type": "code",
   "execution_count": 222,
   "metadata": {},
   "outputs": [
    {
     "data": {
      "image/png": "[encoded data removed]",
      "text/plain": [
       "<Figure size 864x432 with 1 Axes>"
      ]
     },
     "metadata": {},
     "output_type": "display_data"
    }
   ],
   "source": [
    "ax = transaction.query('DATE > \"2018-07-01\"').resample('W', label='left',on='DATE').count().\\\n",
    "STORE_NBR.plot(figsize=(12,6))\n",
    "ax.set(xlabel=None)\n",
    "ax.set(ylabel=None)\n",
    "ax.set(title='Weekly transactions over time')\n",
    "ax.set(ylim=(0,7000))\n",
    "ax.tick_params(axis='x', labelsize=11)\n",
    "ax.tick_params(axis='y', labelsize=12);"
   ]
  },
  {
   "cell_type": "code",
   "execution_count": 19,
   "metadata": {},
   "outputs": [],
   "source": [
    "# There’s only 364 rows, meaning only 364 dates which indicates a missing date. \n",
    "#Let’s create a sequence of dates from 1 Jul 2018 to 30 Jun 2019 and use this to \n",
    "#create a chart of number of transactions over time to find the missing date. \n",
    "\n",
    "date_list = pd.Series(pd.date_range(start=\"2018-07-01\",end=\"2019-06-30\").to_pydatetime(),name = 'DATE').to_frame()\n",
    "transaction_with_wholedate = date_list.merge(transaction_by_date,left_on='DATE', right_index=True, how='left')\n",
    "transaction_with_wholedate.set_index('DATE',inplace = True)"
   ]
  },
  {
   "cell_type": "code",
   "execution_count": 208,
   "metadata": {
    "scrolled": true
   },
   "outputs": [
    {
     "data": {
      "image/png": "[encoded data removed]",
      "text/plain": [
       "<Figure size 864x360 with 1 Axes>"
      ]
     },
     "metadata": {},
     "output_type": "display_data"
    }
   ],
   "source": [
    "transaction_with_wholedate.plot(kind='line',figsize = (12,5))\n",
    "plt.show()"
   ]
  },
  {
   "cell_type": "code",
   "execution_count": 21,
   "metadata": {},
   "outputs": [],
   "source": [
    "# There is a break point around 2018 December, let's zoom in on this \n",
    "date_mask = (transaction_with_wholedate.index > '2018-11-30') & (transaction_with_wholedate.index < '2019-01-01')\n",
    "month_12 = transaction_with_wholedate.loc[transaction_with_wholedate.index[date_mask]]"
   ]
  },
  {
   "cell_type": "code",
   "execution_count": 169,
   "metadata": {},
   "outputs": [
    {
     "data": {
      "image/png": "[encoded data removed]",
      "text/plain": [
       "<Figure size 864x360 with 1 Axes>"
      ]
     },
     "metadata": {},
     "output_type": "display_data"
    }
   ],
   "source": [
    "month_12.plot(kind='line',figsize = (12,5))\n",
    "plt.show()"
   ]
  },
  {
   "cell_type": "markdown",
   "metadata": {},
   "source": [
    "#### Observation:\n",
    "We can see that the increase in sales occurs in the lead-up to Christmas and that there are zero sales on\n",
    "Christmas day itself. This is due to shops being closed on Christmas day.\n",
    "\n",
    "\n",
    "Now that we are satisfied that the data no longer has outliers, we can move on to creating other features\n",
    "such as brand of chips or pack size from PROD_NAME. We will start with pack size."
   ]
  },
  {
   "cell_type": "code",
   "execution_count": 23,
   "metadata": {},
   "outputs": [
    {
     "data": {
      "text/plain": [
       "70      1507\n",
       "90      3008\n",
       "110    22387\n",
       "125     1454\n",
       "134    25102\n",
       "135     3257\n",
       "150    43131\n",
       "160     2970\n",
       "165    15297\n",
       "170    19983\n",
       "175    66390\n",
       "180     1468\n",
       "190     2995\n",
       "200     4473\n",
       "210     6272\n",
       "220     1564\n",
       "250     3169\n",
       "270     6285\n",
       "300    15166\n",
       "330    12540\n",
       "380     6416\n",
       "Name: Pack_size, dtype: int64"
      ]
     },
     "execution_count": 23,
     "metadata": {},
     "output_type": "execute_result"
    }
   ],
   "source": [
    "# Create new column Pack_size by extract the  number from product name string\n",
    "transaction['Pack_size'] = transaction.PROD_NAME.str.extract('(\\d+)').astype('int')\n",
    "transaction.Pack_size.value_counts().sort_index()"
   ]
  },
  {
   "cell_type": "code",
   "execution_count": 24,
   "metadata": {},
   "outputs": [
    {
     "data": {
      "image/png": "[encoded data removed]",
      "text/plain": [
       "<Figure size 432x288 with 1 Axes>"
      ]
     },
     "metadata": {
      "needs_background": "light"
     },
     "output_type": "display_data"
    }
   ],
   "source": [
    "transaction.Pack_size.plot(kind='hist')\n",
    "plt.title('Histogram of transactionData[, PACK_SIZE]')\n",
    "plt.show()"
   ]
  },
  {
   "cell_type": "markdown",
   "metadata": {},
   "source": [
    "#### Observation:\n",
    "The largest size is 380g and the smallest size is 70g - seems sensible! \n",
    "\n",
    "Pack sizes created look reasonable and now to create brands, we can use the first word in PROD_NAME to\n",
    "work out the brand name"
   ]
  },
  {
   "cell_type": "code",
   "execution_count": 25,
   "metadata": {},
   "outputs": [
    {
     "data": {
      "text/plain": [
       "array(['Natural', 'CCs', 'Smiths', 'Kettle', 'Old', 'Grain', 'Doritos',\n",
       "       'Twisties', 'WW', 'Thins', 'Burger', 'NCC', 'Cheezels', 'Infzns',\n",
       "       'Red', 'Pringles', 'Dorito', 'Infuzions', 'Smith', 'GrnWves',\n",
       "       'Tyrrells', 'Cobs', 'Woolworths', 'French', 'RRD', 'Tostitos',\n",
       "       'Cheetos', 'Snbts', 'Sunbites'], dtype=object)"
      ]
     },
     "execution_count": 25,
     "metadata": {},
     "output_type": "execute_result"
    }
   ],
   "source": [
    "# Create new column Brand by fetching the first word in product name\n",
    "transaction['Brand'] = transaction.PROD_NAME.str.split().str.get(0)\n",
    "transaction.Brand.unique()"
   ]
  },
  {
   "cell_type": "code",
   "execution_count": 26,
   "metadata": {},
   "outputs": [],
   "source": [
    "transaction.Brand = transaction.Brand.str.upper()"
   ]
  },
  {
   "cell_type": "markdown",
   "metadata": {},
   "source": [
    "#### Observation:\n",
    "Some of the brand names look like they are of the same brands - such as RED and RRD, which are both Red\n",
    "Rock Deli chips. Let’s combine these together."
   ]
  },
  {
   "cell_type": "code",
   "execution_count": 27,
   "metadata": {},
   "outputs": [],
   "source": [
    "#Combine the same brand together \n",
    "transaction.loc[transaction.Brand == 'Red','Brand'] = 'RRD'\n",
    "transaction.loc[transaction.Brand == 'SNBTS','Brand'] = 'SUNBITES'\n",
    "transaction.loc[transaction.Brand == 'INFZNS','Brand'] = 'INFUZIONS'\n",
    "transaction.loc[transaction.Brand == 'WW','Brand'] = 'WOOLWORTHS'\n",
    "transaction.loc[transaction.Brand == 'SMITH','Brand'] = 'SMITHS'\n",
    "transaction.loc[transaction.Brand == 'NCC','Brand'] = 'NATURAL'\n",
    "transaction.loc[transaction.Brand == 'DORITO','Brand'] = 'DORITOS'\n",
    "transaction.loc[transaction.Brand == 'GRAIN','Brand'] = 'GRNWVES'"
   ]
  },
  {
   "cell_type": "code",
   "execution_count": 28,
   "metadata": {},
   "outputs": [
    {
     "data": {
      "text/plain": [
       "BURGER         1564\n",
       "CCS            4551\n",
       "CHEETOS        2927\n",
       "CHEEZELS       4603\n",
       "COBS           9693\n",
       "DORITOS       28145\n",
       "FRENCH         1418\n",
       "GRNWVES        7740\n",
       "INFUZIONS     14201\n",
       "KETTLE        41288\n",
       "NATURAL        7469\n",
       "OLD            9324\n",
       "PRINGLES      25102\n",
       "RED            5885\n",
       "RRD           11894\n",
       "SMITHS        31823\n",
       "SUNBITES       3008\n",
       "THINS         14075\n",
       "TOSTITOS       9471\n",
       "TWISTIES       9454\n",
       "TYRRELLS       6442\n",
       "WOOLWORTHS    14757\n",
       "Name: Brand, dtype: int64"
      ]
     },
     "execution_count": 28,
     "metadata": {},
     "output_type": "execute_result"
    }
   ],
   "source": [
    "transaction.Brand.value_counts().sort_index()"
   ]
  },
  {
   "cell_type": "markdown",
   "metadata": {},
   "source": [
    "### Merge customer and transaction dataset "
   ]
  },
  {
   "cell_type": "code",
   "execution_count": 29,
   "metadata": {},
   "outputs": [],
   "source": [
    "# Merge customer and transaction data  \n",
    "merge_data = pd.merge(customer,transaction,on = 'LYLTY_CARD_NBR')"
   ]
  },
  {
   "cell_type": "code",
   "execution_count": 30,
   "metadata": {},
   "outputs": [
    {
     "name": "stdout",
     "output_type": "stream",
     "text": [
      "<class 'pandas.core.frame.DataFrame'>\n",
      "Int64Index: 264834 entries, 0 to 264833\n",
      "Data columns (total 12 columns):\n",
      " #   Column            Non-Null Count   Dtype         \n",
      "---  ------            --------------   -----         \n",
      " 0   LYLTY_CARD_NBR    264834 non-null  int64         \n",
      " 1   LIFESTAGE         264834 non-null  category      \n",
      " 2   PREMIUM_CUSTOMER  264834 non-null  category      \n",
      " 3   DATE              264834 non-null  datetime64[ns]\n",
      " 4   STORE_NBR         264834 non-null  category      \n",
      " 5   TXN_ID            264834 non-null  int64         \n",
      " 6   PROD_NBR          264834 non-null  category      \n",
      " 7   PROD_NAME         264834 non-null  category      \n",
      " 8   PROD_QTY          264834 non-null  int64         \n",
      " 9   TOT_SALES         264834 non-null  float64       \n",
      " 10  Pack_size         264834 non-null  int64         \n",
      " 11  Brand             264834 non-null  object        \n",
      "dtypes: category(5), datetime64[ns](1), float64(1), int64(4), object(1)\n",
      "memory usage: 17.7+ MB\n"
     ]
    }
   ],
   "source": [
    "merge_data.info()"
   ]
  },
  {
   "cell_type": "code",
   "execution_count": 31,
   "metadata": {},
   "outputs": [],
   "source": [
    "# Generate a sample for 30% \n",
    "# sample_customer = data.sample(frac =.25)"
   ]
  },
  {
   "cell_type": "markdown",
   "metadata": {},
   "source": [
    "### Define metrics for analysis  \n",
    "- Who spends the most on chips (total sales), describing customers by lifestage and how premium their general purchasing behaviour is\n",
    "- How many customers are in each segment\n",
    "- How many chips are bought per customer by segment\n",
    "- What’s the average chip price by customer segment\n",
    "\n",
    "##### We could also ask our data team for more information. Examples are:\n",
    "- The customer’s total spend over the period and total spend for each transaction to understand what proportion of their grocery spend is on chips\n",
    "- Proportion of customers in each customer segment overall to compare against the mix of customers who purchase chips\n",
    "\n",
    "\n",
    "    - Total sales by dimension\n",
    "    - Driver of sales \n",
    "    - Average unit purchased by customer by dimension"
   ]
  },
  {
   "cell_type": "code",
   "execution_count": 32,
   "metadata": {},
   "outputs": [],
   "source": [
    "merge_data['Price'] = merge_data.TOT_SALES/merge_data.PROD_QTY"
   ]
  },
  {
   "cell_type": "markdown",
   "metadata": {},
   "source": [
    "##### Let’s start with calculating total sales by LIFESTAGE and PREMIUM_CUSTOMER and plotting the split by these segments to describe which customer segment contribute most to chip sales."
   ]
  },
  {
   "cell_type": "code",
   "execution_count": null,
   "metadata": {},
   "outputs": [],
   "source": []
  },
  {
   "cell_type": "code",
   "execution_count": 168,
   "metadata": {},
   "outputs": [
    {
     "data": {
      "image/png": "[encoded data removed]",
      "text/plain": [
       "<Figure size 1080x360 with 1 Axes>"
      ]
     },
     "metadata": {},
     "output_type": "display_data"
    }
   ],
   "source": [
    "# Let's plot to see who contribute the most to sales \n",
    "\n",
    "sales_prop = round(merge_data.groupby(['LIFESTAGE','PREMIUM_CUSTOMER']).TOT_SALES.\\\n",
    "                   sum()/merge_data.groupby('LIFESTAGE').TOT_SALES.sum(),2)\\\n",
    ".to_frame()\n",
    "sales_prop.reset_index(inplace=True)\n",
    "\n",
    "plt.figure(figsize=(15,5))\n",
    "ax = sb.barplot(data = sales_prop, x = 'LIFESTAGE', y = 'TOT_SALES', hue = 'PREMIUM_CUSTOMER', palette='hls')\n",
    "ax.legend( ncol = 1, framealpha = 1)\n",
    "plt.title('Proportion of sales for customer segment')\n",
    "ax.set(xlabel=None)\n",
    "ax.set(ylabel=None)\n",
    "for container in ax.containers:\n",
    "    ax.bar_label(container)\n",
    "ax.tick_params(axis='x', labelsize=9)\n",
    "ax.tick_params(axis='y', labelsize=9);"
   ]
  },
  {
   "cell_type": "markdown",
   "metadata": {},
   "source": [
    "#### Observation:\n",
    "Sales are coming mainly from `Budget - older families`, `Mainstream - young singles/couples`, and `Mainstream - retirees`, Let’s see if the higher sales are due to there being more customers who buy chips."
   ]
  },
  {
   "cell_type": "code",
   "execution_count": 119,
   "metadata": {},
   "outputs": [
    {
     "data": {
      "text/plain": [
       "'\\nsb.set_style(\"darkgrid\")\\ntest = customer_prop.copy()\\ndf = test.pivot(index=\\'LIFESTAGE\\', columns=\\'PREMIUM_CUSTOMER\\', values=\\'LYLTY_CARD_NBR\\').reset_index()\\nax = df.plot( x=\\'LIFESTAGE\\', kind=\\'bar\\', stacked=True, title=\\'Stacked Bar Graph by dataframe\\', figsize=(12,7),            color=[\\'red\\', \\'skyblue\\', \\'green\\'])\\nax.set(xlabel=None)\\nax.set(ylabel=None)\\nax.tick_params(axis=\\'x\\', labelsize=9, rotation=0)\\nax.tick_params(axis=\\'y\\', labelsize=9);\\n'"
      ]
     },
     "execution_count": 119,
     "metadata": {},
     "output_type": "execute_result"
    }
   ],
   "source": [
    "\"\"\"\n",
    "sb.set_style(\"darkgrid\")\n",
    "test = customer_prop.copy()\n",
    "df = test.pivot(index='LIFESTAGE', columns='PREMIUM_CUSTOMER', values='LYLTY_CARD_NBR').reset_index()\n",
    "ax = df.plot( x='LIFESTAGE', kind='bar', stacked=True, title='Stacked Bar Graph by dataframe', figsize=(12,7),\\\n",
    "            color=['red', 'skyblue', 'green'])\n",
    "ax.set(xlabel=None)\n",
    "ax.set(ylabel=None)\n",
    "ax.tick_params(axis='x', labelsize=9, rotation=0)\n",
    "ax.tick_params(axis='y', labelsize=9);\n",
    "\"\"\""
   ]
  },
  {
   "cell_type": "code",
   "execution_count": 142,
   "metadata": {},
   "outputs": [],
   "source": [
    "#customer_prop['LYLTY_CARD_NBR'] = customer_prop.LYLTY_CARD_NBR.apply(lambda x:format(x,'.1%')).astype('float')"
   ]
  },
  {
   "cell_type": "code",
   "execution_count": 173,
   "metadata": {},
   "outputs": [
    {
     "data": {
      "text/plain": [
       "LIFESTAGE\n",
       "MIDAGE SINGLES/COUPLES     7.3\n",
       "NEW FAMILIES               2.5\n",
       "OLDER FAMILIES             9.8\n",
       "OLDER SINGLES/COUPLES     14.6\n",
       "RETIREES                  14.8\n",
       "YOUNG FAMILIES             9.2\n",
       "YOUNG SINGLES/COUPLES     14.4\n",
       "Name: LYLTY_CARD_NBR, dtype: float64"
      ]
     },
     "execution_count": 173,
     "metadata": {},
     "output_type": "execute_result"
    }
   ],
   "source": [
    "round(merge_data.groupby('LIFESTAGE').LYLTY_CARD_NBR.nunique()/1000,1)"
   ]
  },
  {
   "cell_type": "code",
   "execution_count": 159,
   "metadata": {
    "scrolled": true
   },
   "outputs": [
    {
     "data": {
      "image/png": "[encoded data removed]",
      "text/plain": [
       "<Figure size 936x360 with 1 Axes>"
      ]
     },
     "metadata": {},
     "output_type": "display_data"
    }
   ],
   "source": [
    "# Let's check total customer number by dimension \n",
    "customer_prop = round(merge_data.groupby(['LIFESTAGE','PREMIUM_CUSTOMER']).LYLTY_CARD_NBR.nunique()\\\n",
    "                      /merge_data.groupby('LIFESTAGE').LYLTY_CARD_NBR.nunique(),2).to_frame()\n",
    "customer_prop.reset_index(inplace=True)\n",
    "#customer_prop['LYLTY_CARD_NBR'] = customer_prop.LYLTY_CARD_NBR.apply(lambda x:format(x,'.1%'))\n",
    "\n",
    "plt.figure(figsize=(13,5))\n",
    "ax = sb.barplot(data = customer_prop, x = 'LIFESTAGE', y = 'LYLTY_CARD_NBR', hue = 'PREMIUM_CUSTOMER',\\\n",
    "                palette = 'hls')\n",
    "ax.legend( ncol = 1, framealpha = 1)\n",
    "plt.title('Proportion of Customers by affluence and life stage profile',fontsize = 15)\n",
    "ax.set(xlabel=None)\n",
    "ax.set(ylabel=None)\n",
    "for container in ax.containers:\n",
    "    ax.bar_label(container)\n",
    "ax.tick_params(axis='x', labelsize=9)\n",
    "ax.tick_params(axis='y', labelsize=9);"
   ]
  },
  {
   "cell_type": "code",
   "execution_count": 76,
   "metadata": {},
   "outputs": [
    {
     "data": {
      "text/html": [
       "<div>\n",
       "<style scoped>\n",
       "    .dataframe tbody tr th:only-of-type {\n",
       "        vertical-align: middle;\n",
       "    }\n",
       "\n",
       "    .dataframe tbody tr th {\n",
       "        vertical-align: top;\n",
       "    }\n",
       "\n",
       "    .dataframe thead th {\n",
       "        text-align: right;\n",
       "    }\n",
       "</style>\n",
       "<table border=\"1\" class=\"dataframe\">\n",
       "  <thead>\n",
       "    <tr style=\"text-align: right;\">\n",
       "      <th></th>\n",
       "      <th>LYLTY_CARD_NBR</th>\n",
       "      <th>LIFESTAGE</th>\n",
       "      <th>PREMIUM_CUSTOMER</th>\n",
       "      <th>DATE</th>\n",
       "      <th>STORE_NBR</th>\n",
       "      <th>TXN_ID</th>\n",
       "      <th>PROD_NBR</th>\n",
       "      <th>PROD_NAME</th>\n",
       "      <th>PROD_QTY</th>\n",
       "      <th>TOT_SALES</th>\n",
       "      <th>Pack_size</th>\n",
       "      <th>Brand</th>\n",
       "      <th>Price</th>\n",
       "    </tr>\n",
       "  </thead>\n",
       "  <tbody>\n",
       "    <tr>\n",
       "      <th>0</th>\n",
       "      <td>1000</td>\n",
       "      <td>YOUNG SINGLES/COUPLES</td>\n",
       "      <td>Premium</td>\n",
       "      <td>2018-10-17</td>\n",
       "      <td>1</td>\n",
       "      <td>1</td>\n",
       "      <td>5</td>\n",
       "      <td>Natural Chip        Compny SeaSalt175g</td>\n",
       "      <td>2</td>\n",
       "      <td>6.0</td>\n",
       "      <td>175</td>\n",
       "      <td>NATURAL</td>\n",
       "      <td>3.0</td>\n",
       "    </tr>\n",
       "    <tr>\n",
       "      <th>1</th>\n",
       "      <td>1002</td>\n",
       "      <td>YOUNG SINGLES/COUPLES</td>\n",
       "      <td>Mainstream</td>\n",
       "      <td>2018-09-16</td>\n",
       "      <td>1</td>\n",
       "      <td>2</td>\n",
       "      <td>58</td>\n",
       "      <td>Red Rock Deli Chikn&amp;Garlic Aioli 150g</td>\n",
       "      <td>1</td>\n",
       "      <td>2.7</td>\n",
       "      <td>150</td>\n",
       "      <td>RED</td>\n",
       "      <td>2.7</td>\n",
       "    </tr>\n",
       "  </tbody>\n",
       "</table>\n",
       "</div>"
      ],
      "text/plain": [
       "   LYLTY_CARD_NBR              LIFESTAGE PREMIUM_CUSTOMER       DATE  \\\n",
       "0            1000  YOUNG SINGLES/COUPLES          Premium 2018-10-17   \n",
       "1            1002  YOUNG SINGLES/COUPLES       Mainstream 2018-09-16   \n",
       "\n",
       "  STORE_NBR  TXN_ID PROD_NBR                               PROD_NAME  \\\n",
       "0         1       1        5  Natural Chip        Compny SeaSalt175g   \n",
       "1         1       2       58   Red Rock Deli Chikn&Garlic Aioli 150g   \n",
       "\n",
       "   PROD_QTY  TOT_SALES  Pack_size    Brand  Price  \n",
       "0         2        6.0        175  NATURAL    3.0  \n",
       "1         1        2.7        150      RED    2.7  "
      ]
     },
     "execution_count": 76,
     "metadata": {},
     "output_type": "execute_result"
    }
   ],
   "source": [
    "merge_data.head(2)"
   ]
  },
  {
   "cell_type": "code",
   "execution_count": null,
   "metadata": {},
   "outputs": [],
   "source": [
    "# plot bars in stack manner\n",
    "x = 'LIFESTAGE'\n",
    "\n",
    "plt.bar('LIFESTAGE', , color='r')\n",
    "plt.bar('LIFESTAGE', y2, bottom=y1, color='b')\n",
    "plt.bar('LIFESTAGE', y3, bottom=y1+y2, color='y')\n",
    "\n",
    "#plt.xlabel(\"Teams\")\n",
    "#plt.ylabel(\"Score\")\n",
    "#plt.legend([\"Round 1\", \"Round 2\", \"Round 3\", \"Round 4\"])\n",
    "plt.title(\"Scores by Teams in 4 Rounds\")\n",
    "plt.show()"
   ]
  },
  {
   "cell_type": "markdown",
   "metadata": {},
   "source": [
    "#### Observation:\n",
    "There are more `Mainstream - young singles/couples` and `Mainstream - retirees` who buy chips. This contributes to there being more sales to these customer segments but this is not a major driver for the `Budget - Older families `segment.\n",
    "\n",
    "Higher sales may also be driven by more units of chips being bought per customer. Let’s have a look at this\n",
    "next."
   ]
  },
  {
   "cell_type": "code",
   "execution_count": 68,
   "metadata": {},
   "outputs": [
    {
     "data": {
      "image/png": "[encoded data removed]",
      "text/plain": [
       "<Figure size 1080x504 with 1 Axes>"
      ]
     },
     "metadata": {
      "needs_background": "light"
     },
     "output_type": "display_data"
    }
   ],
   "source": [
    "# Let's plot to check average quantity purchased by dimension \n",
    "unit_p_customer = round(merge_data.groupby(['LIFESTAGE','PREMIUM_CUSTOMER']).PROD_QTY.sum()\\\n",
    "                      /merge_data.groupby(['LIFESTAGE','PREMIUM_CUSTOMER']).LYLTY_CARD_NBR.nunique(),1).to_frame()\n",
    "unit_p_customer.reset_index(inplace=True)\n",
    "unit_p_customer.rename(columns={0:'unit_p_customer'},inplace=True)\n",
    "\n",
    "plt.figure(figsize=(15,7))\n",
    "ax = sb.barplot(data = unit_p_customer, x = 'LIFESTAGE', y = 'unit_p_customer', hue = 'PREMIUM_CUSTOMER', palette = 'hls')\n",
    "ax.legend( ncol = 1, framealpha = 1)\n",
    "for container in ax.containers:\n",
    "    ax.bar_label(container)\n",
    "plt.title('Average units per transaction by affluence and life stage profile')\n",
    "ax.set(xlabel=None)\n",
    "ax.set(ylabel=None)\n",
    "ax.tick_params(axis='x', labelsize=9)\n",
    "ax.tick_params(axis='y', labelsize=9);"
   ]
  },
  {
   "cell_type": "markdown",
   "metadata": {},
   "source": [
    "#### Observation:\n",
    "Older families and young families in general buy more chips per customer.\n",
    "\n",
    "Let’s also investigate the average price per unit chips bought for each customer segment as this is also a driver of total sales."
   ]
  },
  {
   "cell_type": "code",
   "execution_count": 36,
   "metadata": {},
   "outputs": [
    {
     "data": {
      "text/plain": [
       "Index(['LYLTY_CARD_NBR', 'LIFESTAGE', 'PREMIUM_CUSTOMER', 'DATE', 'STORE_NBR',\n",
       "       'TXN_ID', 'PROD_NBR', 'PROD_NAME', 'PROD_QTY', 'TOT_SALES', 'Pack_size',\n",
       "       'Brand', 'Price'],\n",
       "      dtype='object')"
      ]
     },
     "execution_count": 36,
     "metadata": {},
     "output_type": "execute_result"
    }
   ],
   "source": [
    "merge_data.columns"
   ]
  },
  {
   "cell_type": "code",
   "execution_count": 165,
   "metadata": {},
   "outputs": [
    {
     "data": {
      "image/png": "[encoded data removed]",
      "text/plain": [
       "<Figure size 1080x360 with 1 Axes>"
      ]
     },
     "metadata": {},
     "output_type": "display_data"
    }
   ],
   "source": [
    "# Let's plot the average unit price per customer segment \n",
    "avg_price = round(merge_data.groupby(['LIFESTAGE','PREMIUM_CUSTOMER']).Price.mean(),1).to_frame()\n",
    "avg_price.reset_index(inplace=True)\n",
    "\n",
    "plt.figure(figsize=(15,5))\n",
    "ax = sb.barplot(data = avg_price, x = 'LIFESTAGE', y = 'Price', hue = 'PREMIUM_CUSTOMER', palette='hls')\n",
    "ax.legend( ncol = 1, framealpha = 1)\n",
    "plt.title('Price per Unit')\n",
    "ax.set(xlabel=None)\n",
    "ax.set(ylabel=None)\n",
    "ax.tick_params(axis='x', labelsize=9)\n",
    "ax.tick_params(axis='y', labelsize=9);"
   ]
  },
  {
   "cell_type": "markdown",
   "metadata": {},
   "source": [
    "#### Observation:\n",
    "`Mainstream midage` and `young singles and couples` are more willing to pay more per packet of chips compared to their budget and premium counterparts. \n",
    "\n",
    "This may be due to premium shoppers being more likely to buy healthy snacks and when they buy chips, this is mainly for entertainment purposes rather than their own consumption. This is also supported by there being fewer premium midage and young singles and couples buying chips compared to their mainstream counterparts.\n",
    "\n",
    "As the difference in average price per unit isn’t large, we can check if this difference is statistically different."
   ]
  },
  {
   "cell_type": "code",
   "execution_count": 38,
   "metadata": {},
   "outputs": [],
   "source": [
    "MS_Y_M = merge_data.loc[(merge_data.PREMIUM_CUSTOMER == 'Mainstream') &\\\n",
    "                        (( merge_data.LIFESTAGE == 'YOUNG SINGLES/COUPLES') | \\\n",
    "                         ( merge_data.LIFESTAGE == 'MIDAGE SINGLES/COUPLES')),'Price']\n",
    "BM_Y_M = merge_data.loc[((merge_data.PREMIUM_CUSTOMER == 'Premium') | \\\n",
    "                         (merge_data.PREMIUM_CUSTOMER == 'Bduget')) & \\\n",
    "                        (( merge_data.LIFESTAGE == 'YOUNG SINGLES/COUPLES') | \n",
    "                         ( merge_data.LIFESTAGE == 'MIDAGE SINGLES/COUPLES')),'Price']"
   ]
  },
  {
   "cell_type": "code",
   "execution_count": 39,
   "metadata": {},
   "outputs": [
    {
     "data": {
      "image/png": "[encoded data removed]",
      "text/plain": [
       "<Figure size 432x288 with 1 Axes>"
      ]
     },
     "metadata": {
      "needs_background": "light"
     },
     "output_type": "display_data"
    }
   ],
   "source": [
    "# Let's check distribution for those two dataset before doing the 2 sample t-test \n",
    "MS_Y_M.plot(kind='hist')\n",
    "plt.show()"
   ]
  },
  {
   "cell_type": "code",
   "execution_count": 40,
   "metadata": {},
   "outputs": [
    {
     "data": {
      "image/png": "[encoded data removed]",
      "text/plain": [
       "<Figure size 432x288 with 1 Axes>"
      ]
     },
     "metadata": {
      "needs_background": "light"
     },
     "output_type": "display_data"
    }
   ],
   "source": [
    "BM_Y_M.plot(kind='hist')\n",
    "plt.show()"
   ]
  },
  {
   "cell_type": "code",
   "execution_count": 41,
   "metadata": {},
   "outputs": [
    {
     "data": {
      "text/plain": [
       "(         Variable        N      Mean        SD        SE  95% Conf.  Interval\n",
       " 0      Mainstream  32728.0  4.045586  1.038600  0.005741   4.034333  4.056839\n",
       " 1  Budget_Premium  14497.0  3.706384  1.134859  0.009425   3.687909  3.724859\n",
       " 2        combined  47225.0  3.941459  1.080447  0.004972   3.931714  3.951204,\n",
       "                             Independent t-test     results\n",
       " 0  Difference (Mainstream - Budget_Premium) =       0.3392\n",
       " 1                        Degrees of freedom =   47223.0000\n",
       " 2                                         t =      31.8028\n",
       " 3                     Two side test p value =       0.0000\n",
       " 4                    Difference < 0 p value =       1.0000\n",
       " 5                    Difference > 0 p value =       0.0000\n",
       " 6                                 Cohen's d =       0.3173\n",
       " 7                                 Hedge's g =       0.3173\n",
       " 8                             Glass's delta =       0.3266\n",
       " 9                               Pearson's r =       0.1448)"
      ]
     },
     "execution_count": 41,
     "metadata": {},
     "output_type": "execute_result"
    }
   ],
   "source": [
    "rp.ttest(group1= MS_Y_M, group1_name= \"Mainstream\",\n",
    "         group2= BM_Y_M, group2_name= \"Budget_Premium\")"
   ]
  },
  {
   "cell_type": "code",
   "execution_count": 42,
   "metadata": {},
   "outputs": [
    {
     "data": {
      "text/plain": [
       "Ttest_indResult(statistic=31.802755248380755, pvalue=1.2488894299193393e-219)"
      ]
     },
     "execution_count": 42,
     "metadata": {},
     "output_type": "execute_result"
    }
   ],
   "source": [
    "stats.ttest_ind(MS_Y_M,BM_Y_M)"
   ]
  },
  {
   "cell_type": "markdown",
   "metadata": {},
   "source": [
    "#### Observation:\n",
    "The t-test results in a pvalue=1.2488894299193393e-219, the unit price for mainstream, young and mid-age singles and\n",
    "couples are significantly higher than that of budget or premium, young and midage singles and couples"
   ]
  },
  {
   "cell_type": "markdown",
   "metadata": {},
   "source": [
    "### Deep dive into specific customer segments for insights \n",
    "\n",
    "We might want to target customer segments that contribute the most to sales to retain them or further increase sales. Let’s look at `Mainstream - young singles/couples`. For instance, let’s find out if they tend to buy a particular brand of chips. "
   ]
  },
  {
   "cell_type": "code",
   "execution_count": 43,
   "metadata": {},
   "outputs": [],
   "source": [
    "target = merge_data.loc[(merge_data.LIFESTAGE == 'YOUNG SINGLES/COUPLES') & \\\n",
    "                        (merge_data.PREMIUM_CUSTOMER == 'Mainstream')]\n",
    "other = merge_data.loc[~((merge_data.LIFESTAGE == 'YOUNG SINGLES/COUPLES') & \\\n",
    "                         ( merge_data.PREMIUM_CUSTOMER == 'Mainstream'))]"
   ]
  },
  {
   "cell_type": "code",
   "execution_count": 44,
   "metadata": {},
   "outputs": [],
   "source": [
    "qty_target = target.PROD_QTY.sum()\n",
    "qty_other = other.PROD_QTY.sum()\n",
    "qty_target_by_brand = target.groupby('Brand').PROD_QTY.sum().rename('target')\n",
    "qty_other_by_brand = other.groupby('Brand').PROD_QTY.sum().rename('other')\n",
    "result_df = pd.concat([qty_other_by_brand, qty_target_by_brand], axis=1)"
   ]
  },
  {
   "cell_type": "code",
   "execution_count": 45,
   "metadata": {},
   "outputs": [],
   "source": [
    "# Calculate Brand affinity compared to the rest of the population \n",
    "result_df['targetSegment'] = result_df.target/qty_target\n",
    "result_df['otherSegment'] = result_df.other/qty_other\n",
    "result_df['affinityToBrand'] = result_df.targetSegment/result_df.otherSegment"
   ]
  },
  {
   "cell_type": "code",
   "execution_count": 46,
   "metadata": {},
   "outputs": [
    {
     "data": {
      "text/html": [
       "<div>\n",
       "<style scoped>\n",
       "    .dataframe tbody tr th:only-of-type {\n",
       "        vertical-align: middle;\n",
       "    }\n",
       "\n",
       "    .dataframe tbody tr th {\n",
       "        vertical-align: top;\n",
       "    }\n",
       "\n",
       "    .dataframe thead th {\n",
       "        text-align: right;\n",
       "    }\n",
       "</style>\n",
       "<table border=\"1\" class=\"dataframe\">\n",
       "  <thead>\n",
       "    <tr style=\"text-align: right;\">\n",
       "      <th></th>\n",
       "      <th>other</th>\n",
       "      <th>target</th>\n",
       "      <th>targetSegment</th>\n",
       "      <th>otherSegment</th>\n",
       "      <th>affinityToBrand</th>\n",
       "    </tr>\n",
       "    <tr>\n",
       "      <th>Brand</th>\n",
       "      <th></th>\n",
       "      <th></th>\n",
       "      <th></th>\n",
       "      <th></th>\n",
       "      <th></th>\n",
       "    </tr>\n",
       "  </thead>\n",
       "  <tbody>\n",
       "    <tr>\n",
       "      <th>TYRRELLS</th>\n",
       "      <td>11155</td>\n",
       "      <td>1143</td>\n",
       "      <td>0.029587</td>\n",
       "      <td>0.023933</td>\n",
       "      <td>1.236235</td>\n",
       "    </tr>\n",
       "    <tr>\n",
       "      <th>TWISTIES</th>\n",
       "      <td>16445</td>\n",
       "      <td>1673</td>\n",
       "      <td>0.043306</td>\n",
       "      <td>0.035283</td>\n",
       "      <td>1.227401</td>\n",
       "    </tr>\n",
       "    <tr>\n",
       "      <th>KETTLE</th>\n",
       "      <td>71879</td>\n",
       "      <td>7172</td>\n",
       "      <td>0.185649</td>\n",
       "      <td>0.154216</td>\n",
       "      <td>1.203823</td>\n",
       "    </tr>\n",
       "    <tr>\n",
       "      <th>TOSTITOS</th>\n",
       "      <td>16489</td>\n",
       "      <td>1645</td>\n",
       "      <td>0.042581</td>\n",
       "      <td>0.035377</td>\n",
       "      <td>1.203638</td>\n",
       "    </tr>\n",
       "    <tr>\n",
       "      <th>OLD</th>\n",
       "      <td>16198</td>\n",
       "      <td>1607</td>\n",
       "      <td>0.041598</td>\n",
       "      <td>0.034753</td>\n",
       "      <td>1.196958</td>\n",
       "    </tr>\n",
       "    <tr>\n",
       "      <th>PRINGLES</th>\n",
       "      <td>43693</td>\n",
       "      <td>4326</td>\n",
       "      <td>0.111980</td>\n",
       "      <td>0.093743</td>\n",
       "      <td>1.194536</td>\n",
       "    </tr>\n",
       "    <tr>\n",
       "      <th>DORITOS</th>\n",
       "      <td>49069</td>\n",
       "      <td>4747</td>\n",
       "      <td>0.122877</td>\n",
       "      <td>0.105277</td>\n",
       "      <td>1.167176</td>\n",
       "    </tr>\n",
       "    <tr>\n",
       "      <th>COBS</th>\n",
       "      <td>16954</td>\n",
       "      <td>1617</td>\n",
       "      <td>0.041856</td>\n",
       "      <td>0.036375</td>\n",
       "      <td>1.150700</td>\n",
       "    </tr>\n",
       "    <tr>\n",
       "      <th>INFUZIONS</th>\n",
       "      <td>24776</td>\n",
       "      <td>2343</td>\n",
       "      <td>0.060649</td>\n",
       "      <td>0.053157</td>\n",
       "      <td>1.140947</td>\n",
       "    </tr>\n",
       "    <tr>\n",
       "      <th>THINS</th>\n",
       "      <td>24742</td>\n",
       "      <td>2187</td>\n",
       "      <td>0.056611</td>\n",
       "      <td>0.053084</td>\n",
       "      <td>1.066445</td>\n",
       "    </tr>\n",
       "    <tr>\n",
       "      <th>GRNWVES</th>\n",
       "      <td>13541</td>\n",
       "      <td>1185</td>\n",
       "      <td>0.030674</td>\n",
       "      <td>0.029052</td>\n",
       "      <td>1.055825</td>\n",
       "    </tr>\n",
       "    <tr>\n",
       "      <th>CHEEZELS</th>\n",
       "      <td>8096</td>\n",
       "      <td>651</td>\n",
       "      <td>0.016851</td>\n",
       "      <td>0.017370</td>\n",
       "      <td>0.970141</td>\n",
       "    </tr>\n",
       "    <tr>\n",
       "      <th>SMITHS</th>\n",
       "      <td>56730</td>\n",
       "      <td>3609</td>\n",
       "      <td>0.093420</td>\n",
       "      <td>0.121714</td>\n",
       "      <td>0.767536</td>\n",
       "    </tr>\n",
       "    <tr>\n",
       "      <th>FRENCH</th>\n",
       "      <td>2500</td>\n",
       "      <td>143</td>\n",
       "      <td>0.003702</td>\n",
       "      <td>0.005364</td>\n",
       "      <td>0.690113</td>\n",
       "    </tr>\n",
       "    <tr>\n",
       "      <th>RED</th>\n",
       "      <td>10553</td>\n",
       "      <td>593</td>\n",
       "      <td>0.015350</td>\n",
       "      <td>0.022641</td>\n",
       "      <td>0.677959</td>\n",
       "    </tr>\n",
       "    <tr>\n",
       "      <th>CHEETOS</th>\n",
       "      <td>5239</td>\n",
       "      <td>291</td>\n",
       "      <td>0.007533</td>\n",
       "      <td>0.011240</td>\n",
       "      <td>0.670145</td>\n",
       "    </tr>\n",
       "    <tr>\n",
       "      <th>RRD</th>\n",
       "      <td>21340</td>\n",
       "      <td>1160</td>\n",
       "      <td>0.030027</td>\n",
       "      <td>0.045785</td>\n",
       "      <td>0.655825</td>\n",
       "    </tr>\n",
       "    <tr>\n",
       "      <th>NATURAL</th>\n",
       "      <td>13396</td>\n",
       "      <td>710</td>\n",
       "      <td>0.018379</td>\n",
       "      <td>0.028741</td>\n",
       "      <td>0.639452</td>\n",
       "    </tr>\n",
       "    <tr>\n",
       "      <th>CCS</th>\n",
       "      <td>8204</td>\n",
       "      <td>405</td>\n",
       "      <td>0.010484</td>\n",
       "      <td>0.017602</td>\n",
       "      <td>0.595599</td>\n",
       "    </tr>\n",
       "    <tr>\n",
       "      <th>SUNBITES</th>\n",
       "      <td>5462</td>\n",
       "      <td>230</td>\n",
       "      <td>0.005954</td>\n",
       "      <td>0.011719</td>\n",
       "      <td>0.508043</td>\n",
       "    </tr>\n",
       "    <tr>\n",
       "      <th>WOOLWORTHS</th>\n",
       "      <td>26767</td>\n",
       "      <td>1089</td>\n",
       "      <td>0.028189</td>\n",
       "      <td>0.057429</td>\n",
       "      <td>0.490854</td>\n",
       "    </tr>\n",
       "    <tr>\n",
       "      <th>BURGER</th>\n",
       "      <td>2864</td>\n",
       "      <td>106</td>\n",
       "      <td>0.002744</td>\n",
       "      <td>0.006145</td>\n",
       "      <td>0.446537</td>\n",
       "    </tr>\n",
       "  </tbody>\n",
       "</table>\n",
       "</div>"
      ],
      "text/plain": [
       "            other  target  targetSegment  otherSegment  affinityToBrand\n",
       "Brand                                                                  \n",
       "TYRRELLS    11155    1143       0.029587      0.023933         1.236235\n",
       "TWISTIES    16445    1673       0.043306      0.035283         1.227401\n",
       "KETTLE      71879    7172       0.185649      0.154216         1.203823\n",
       "TOSTITOS    16489    1645       0.042581      0.035377         1.203638\n",
       "OLD         16198    1607       0.041598      0.034753         1.196958\n",
       "PRINGLES    43693    4326       0.111980      0.093743         1.194536\n",
       "DORITOS     49069    4747       0.122877      0.105277         1.167176\n",
       "COBS        16954    1617       0.041856      0.036375         1.150700\n",
       "INFUZIONS   24776    2343       0.060649      0.053157         1.140947\n",
       "THINS       24742    2187       0.056611      0.053084         1.066445\n",
       "GRNWVES     13541    1185       0.030674      0.029052         1.055825\n",
       "CHEEZELS     8096     651       0.016851      0.017370         0.970141\n",
       "SMITHS      56730    3609       0.093420      0.121714         0.767536\n",
       "FRENCH       2500     143       0.003702      0.005364         0.690113\n",
       "RED         10553     593       0.015350      0.022641         0.677959\n",
       "CHEETOS      5239     291       0.007533      0.011240         0.670145\n",
       "RRD         21340    1160       0.030027      0.045785         0.655825\n",
       "NATURAL     13396     710       0.018379      0.028741         0.639452\n",
       "CCS          8204     405       0.010484      0.017602         0.595599\n",
       "SUNBITES     5462     230       0.005954      0.011719         0.508043\n",
       "WOOLWORTHS  26767    1089       0.028189      0.057429         0.490854\n",
       "BURGER       2864     106       0.002744      0.006145         0.446537"
      ]
     },
     "execution_count": 46,
     "metadata": {},
     "output_type": "execute_result"
    }
   ],
   "source": [
    "result_df.sort_values('affinityToBrand', ascending = False)"
   ]
  },
  {
   "cell_type": "markdown",
   "metadata": {},
   "source": [
    "#### Observation:\n",
    "We can see that :\n",
    "- Mainstream young singles/couples are 23% more likely to purchase Tyrrells chips compared to the rest of the population\n",
    "- Mainstream young singles/couples are 56% less likely to purchase Burger Rings compared to the rest of the population\n",
    "\n",
    "\n",
    "##### Let’s also find out if our target segment tends to buy larger packs of chips."
   ]
  },
  {
   "cell_type": "code",
   "execution_count": 47,
   "metadata": {},
   "outputs": [],
   "source": [
    "# Find out preferrence by pack size  \n",
    "qty_target_by_size = target.groupby('Pack_size').PROD_QTY.sum().rename('target')\n",
    "qty_other_by_size = other.groupby('Pack_size').PROD_QTY.sum().rename('other')\n",
    "result_df = pd.concat([qty_other_by_size, qty_target_by_size], axis=1)\n",
    "\n",
    "result_df['targetSegment'] = result_df.target/qty_target\n",
    "result_df['otherSegment'] = result_df.other/qty_other\n",
    "result_df['affinityToBrand'] = result_df.targetSegment/result_df.otherSegment"
   ]
  },
  {
   "cell_type": "code",
   "execution_count": 48,
   "metadata": {},
   "outputs": [
    {
     "data": {
      "text/html": [
       "<div>\n",
       "<style scoped>\n",
       "    .dataframe tbody tr th:only-of-type {\n",
       "        vertical-align: middle;\n",
       "    }\n",
       "\n",
       "    .dataframe tbody tr th {\n",
       "        vertical-align: top;\n",
       "    }\n",
       "\n",
       "    .dataframe thead th {\n",
       "        text-align: right;\n",
       "    }\n",
       "</style>\n",
       "<table border=\"1\" class=\"dataframe\">\n",
       "  <thead>\n",
       "    <tr style=\"text-align: right;\">\n",
       "      <th></th>\n",
       "      <th>other</th>\n",
       "      <th>target</th>\n",
       "      <th>targetSegment</th>\n",
       "      <th>otherSegment</th>\n",
       "      <th>affinityToBrand</th>\n",
       "    </tr>\n",
       "    <tr>\n",
       "      <th>Pack_size</th>\n",
       "      <th></th>\n",
       "      <th></th>\n",
       "      <th></th>\n",
       "      <th></th>\n",
       "      <th></th>\n",
       "    </tr>\n",
       "  </thead>\n",
       "  <tbody>\n",
       "    <tr>\n",
       "      <th>270</th>\n",
       "      <td>10896</td>\n",
       "      <td>1153</td>\n",
       "      <td>0.029846</td>\n",
       "      <td>0.023377</td>\n",
       "      <td>1.276694</td>\n",
       "    </tr>\n",
       "    <tr>\n",
       "      <th>380</th>\n",
       "      <td>11108</td>\n",
       "      <td>1165</td>\n",
       "      <td>0.030156</td>\n",
       "      <td>0.023832</td>\n",
       "      <td>1.265361</td>\n",
       "    </tr>\n",
       "    <tr>\n",
       "      <th>330</th>\n",
       "      <td>21779</td>\n",
       "      <td>2220</td>\n",
       "      <td>0.057465</td>\n",
       "      <td>0.046727</td>\n",
       "      <td>1.229814</td>\n",
       "    </tr>\n",
       "    <tr>\n",
       "      <th>134</th>\n",
       "      <td>43693</td>\n",
       "      <td>4326</td>\n",
       "      <td>0.111980</td>\n",
       "      <td>0.093743</td>\n",
       "      <td>1.194536</td>\n",
       "    </tr>\n",
       "    <tr>\n",
       "      <th>110</th>\n",
       "      <td>38985</td>\n",
       "      <td>3850</td>\n",
       "      <td>0.099658</td>\n",
       "      <td>0.083642</td>\n",
       "      <td>1.191482</td>\n",
       "    </tr>\n",
       "    <tr>\n",
       "      <th>210</th>\n",
       "      <td>10907</td>\n",
       "      <td>1055</td>\n",
       "      <td>0.027309</td>\n",
       "      <td>0.023401</td>\n",
       "      <td>1.167002</td>\n",
       "    </tr>\n",
       "    <tr>\n",
       "      <th>135</th>\n",
       "      <td>5677</td>\n",
       "      <td>535</td>\n",
       "      <td>0.013849</td>\n",
       "      <td>0.012180</td>\n",
       "      <td>1.136997</td>\n",
       "    </tr>\n",
       "    <tr>\n",
       "      <th>250</th>\n",
       "      <td>5549</td>\n",
       "      <td>520</td>\n",
       "      <td>0.013460</td>\n",
       "      <td>0.011905</td>\n",
       "      <td>1.130611</td>\n",
       "    </tr>\n",
       "    <tr>\n",
       "      <th>170</th>\n",
       "      <td>35162</td>\n",
       "      <td>2926</td>\n",
       "      <td>0.075740</td>\n",
       "      <td>0.075440</td>\n",
       "      <td>1.003980</td>\n",
       "    </tr>\n",
       "    <tr>\n",
       "      <th>300</th>\n",
       "      <td>26690</td>\n",
       "      <td>2123</td>\n",
       "      <td>0.054954</td>\n",
       "      <td>0.057263</td>\n",
       "      <td>0.959679</td>\n",
       "    </tr>\n",
       "    <tr>\n",
       "      <th>175</th>\n",
       "      <td>117230</td>\n",
       "      <td>9237</td>\n",
       "      <td>0.239102</td>\n",
       "      <td>0.251517</td>\n",
       "      <td>0.950641</td>\n",
       "    </tr>\n",
       "    <tr>\n",
       "      <th>150</th>\n",
       "      <td>76181</td>\n",
       "      <td>5993</td>\n",
       "      <td>0.155130</td>\n",
       "      <td>0.163446</td>\n",
       "      <td>0.949122</td>\n",
       "    </tr>\n",
       "    <tr>\n",
       "      <th>165</th>\n",
       "      <td>27035</td>\n",
       "      <td>2016</td>\n",
       "      <td>0.052185</td>\n",
       "      <td>0.058004</td>\n",
       "      <td>0.899681</td>\n",
       "    </tr>\n",
       "    <tr>\n",
       "      <th>190</th>\n",
       "      <td>5402</td>\n",
       "      <td>271</td>\n",
       "      <td>0.007015</td>\n",
       "      <td>0.011590</td>\n",
       "      <td>0.605256</td>\n",
       "    </tr>\n",
       "    <tr>\n",
       "      <th>180</th>\n",
       "      <td>2634</td>\n",
       "      <td>130</td>\n",
       "      <td>0.003365</td>\n",
       "      <td>0.005651</td>\n",
       "      <td>0.595459</td>\n",
       "    </tr>\n",
       "    <tr>\n",
       "      <th>160</th>\n",
       "      <td>5372</td>\n",
       "      <td>232</td>\n",
       "      <td>0.006005</td>\n",
       "      <td>0.011526</td>\n",
       "      <td>0.521046</td>\n",
       "    </tr>\n",
       "    <tr>\n",
       "      <th>90</th>\n",
       "      <td>5462</td>\n",
       "      <td>230</td>\n",
       "      <td>0.005954</td>\n",
       "      <td>0.011719</td>\n",
       "      <td>0.508043</td>\n",
       "    </tr>\n",
       "    <tr>\n",
       "      <th>125</th>\n",
       "      <td>2621</td>\n",
       "      <td>109</td>\n",
       "      <td>0.002821</td>\n",
       "      <td>0.005623</td>\n",
       "      <td>0.501746</td>\n",
       "    </tr>\n",
       "    <tr>\n",
       "      <th>200</th>\n",
       "      <td>8100</td>\n",
       "      <td>325</td>\n",
       "      <td>0.008413</td>\n",
       "      <td>0.017379</td>\n",
       "      <td>0.484086</td>\n",
       "    </tr>\n",
       "    <tr>\n",
       "      <th>70</th>\n",
       "      <td>2745</td>\n",
       "      <td>110</td>\n",
       "      <td>0.002847</td>\n",
       "      <td>0.005889</td>\n",
       "      <td>0.483476</td>\n",
       "    </tr>\n",
       "    <tr>\n",
       "      <th>220</th>\n",
       "      <td>2864</td>\n",
       "      <td>106</td>\n",
       "      <td>0.002744</td>\n",
       "      <td>0.006145</td>\n",
       "      <td>0.446537</td>\n",
       "    </tr>\n",
       "  </tbody>\n",
       "</table>\n",
       "</div>"
      ],
      "text/plain": [
       "            other  target  targetSegment  otherSegment  affinityToBrand\n",
       "Pack_size                                                              \n",
       "270         10896    1153       0.029846      0.023377         1.276694\n",
       "380         11108    1165       0.030156      0.023832         1.265361\n",
       "330         21779    2220       0.057465      0.046727         1.229814\n",
       "134         43693    4326       0.111980      0.093743         1.194536\n",
       "110         38985    3850       0.099658      0.083642         1.191482\n",
       "210         10907    1055       0.027309      0.023401         1.167002\n",
       "135          5677     535       0.013849      0.012180         1.136997\n",
       "250          5549     520       0.013460      0.011905         1.130611\n",
       "170         35162    2926       0.075740      0.075440         1.003980\n",
       "300         26690    2123       0.054954      0.057263         0.959679\n",
       "175        117230    9237       0.239102      0.251517         0.950641\n",
       "150         76181    5993       0.155130      0.163446         0.949122\n",
       "165         27035    2016       0.052185      0.058004         0.899681\n",
       "190          5402     271       0.007015      0.011590         0.605256\n",
       "180          2634     130       0.003365      0.005651         0.595459\n",
       "160          5372     232       0.006005      0.011526         0.521046\n",
       "90           5462     230       0.005954      0.011719         0.508043\n",
       "125          2621     109       0.002821      0.005623         0.501746\n",
       "200          8100     325       0.008413      0.017379         0.484086\n",
       "70           2745     110       0.002847      0.005889         0.483476\n",
       "220          2864     106       0.002744      0.006145         0.446537"
      ]
     },
     "execution_count": 48,
     "metadata": {},
     "output_type": "execute_result"
    }
   ],
   "source": [
    "result_df.sort_values('affinityToBrand',ascending=False)"
   ]
  },
  {
   "cell_type": "code",
   "execution_count": 49,
   "metadata": {},
   "outputs": [
    {
     "data": {
      "text/plain": [
       "TWISTIES    6285\n",
       "Name: Brand, dtype: int64"
      ]
     },
     "execution_count": 49,
     "metadata": {},
     "output_type": "execute_result"
    }
   ],
   "source": [
    "merge_data.loc[merge_data.Pack_size == 270,'Brand'].value_counts()"
   ]
  },
  {
   "cell_type": "markdown",
   "metadata": {},
   "source": [
    "#### Observation:\n",
    "It looks like Mainstream young singles/couples are 27% more likely to purchase a 270g pack of chips compared to the rest of the population but let’s dive into what brands sell this pack size.\n",
    "\n",
    "Twisties are the only brand offering 270g packs and so this may instead be reflecting a higher likelihood of\n",
    "purchasing Twisties."
   ]
  },
  {
   "cell_type": "markdown",
   "metadata": {},
   "source": [
    "### Conclusion \n",
    "\n",
    "- Sales have mainly been due to Budget - older families, Mainstream - young singles/couples, and Mainstream retirees shoppers. \n",
    "\n",
    "\n",
    "- We found that the high spend in chips for mainstream young singles/couples and retirees is due to there being more of them than other buyers. \n",
    "\n",
    "\n",
    "- Mainstream, midage and young singles and couples are also more likely to pay more per packet of chips. This is indicative of impulse buying behaviour.\n",
    "\n",
    "\n",
    "- We’ve also found that Mainstream young singles and couples are 23% more likely to purchase Tyrrells chips compared to the rest of the population. The Category Manager may want to increase the category’s performance by off-locating some Tyrrells and smaller packs of chips in discretionary space near segments where young singles and couples frequent more often to increase visibilty and impulse behaviour.\n"
   ]
  },
  {
   "cell_type": "code",
   "execution_count": 50,
   "metadata": {},
   "outputs": [],
   "source": [
    "# Export the merge_data into csv for further analysis  \n",
    "merge_data.to_csv('merge_data.csv', index=False)"
   ]
  }
 ],
 "metadata": {
  "kernelspec": {
   "display_name": "Python 3 (ipykernel)",
   "language": "python",
   "name": "python3"
  },
  "language_info": {
   "codemirror_mode": {
    "name": "ipython",
    "version": 3
   },
   "file_extension": ".py",
   "mimetype": "text/x-python",
   "name": "python",
   "nbconvert_exporter": "python",
   "pygments_lexer": "ipython3",
   "version": "3.8.8"
  }
 },
 "nbformat": 4,
 "nbformat_minor": 4
}
