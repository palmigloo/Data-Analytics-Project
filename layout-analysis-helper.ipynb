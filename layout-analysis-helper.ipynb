{
 "cells": [
  {
   "cell_type": "code",
   "execution_count": null,
   "id": "7c569ee9",
   "metadata": {},
   "outputs": [],
   "source": []
  },
  {
   "cell_type": "markdown",
   "id": "c31d554e",
   "metadata": {},
   "source": [
    "### Check similarity between stores "
   ]
  },
  {
   "cell_type": "code",
   "execution_count": 29,
   "id": "bf2a6b1e",
   "metadata": {},
   "outputs": [],
   "source": [
    "# Create function to calculate correlation between trial store and control store \n",
    "def calculateCorrelation(store_list,measure_df,trial_store, measure_col):\n",
    "    result = []\n",
    "    for store in store_list:\n",
    "        trial = measure_df.query('STORE_NBR == {}'.format(trial_store)).reset_index()\n",
    "        control = measure_df.query('STORE_NBR == {}'.format(store)).reset_index()\n",
    "        score = trial.corrwith(control)[measure_col]\n",
    "        result.append({'store':store,'score':score})\n",
    "    result = pd.DataFrame(result)\n",
    "    #print(result.sort_values(by='score',ascending=False).head(5))\n",
    "    return result "
   ]
  },
  {
   "cell_type": "code",
   "execution_count": 32,
   "id": "00460eae",
   "metadata": {},
   "outputs": [],
   "source": [
    "# Create a function to calculate a standardised magnitude distance for a measure looping through each control store\n",
    "def calculateMagnitudeDistance(store_list,measure_df,trial_store, measure_col):\n",
    "    result = []\n",
    "    for store in store_list:\n",
    "        trial = measure_df.query('STORE_NBR == {}'.format(trial_store)).reset_index().drop(columns='STORE_NBR')\n",
    "        control = measure_df.query('STORE_NBR == {}'.format(store)).reset_index().drop(columns='STORE_NBR')\n",
    "        \n",
    "        abs_diff = abs(trial[measure_col] - control[measure_col])\n",
    "        min_measure = min(abs_diff)\n",
    "        max_measure = max(abs_diff)\n",
    "        magnitude_measure = 1 - (abs_diff - min_measure)/(max_measure - min_measure)\n",
    "        score = magnitude_measure.mean()\n",
    "        \n",
    "        result.append({'store':store,'score':score})\n",
    "    result = pd.DataFrame(result)\n",
    "    #print(result.sort_values(by='score',ascending=False).head(5))\n",
    "    return result "
   ]
  },
  {
   "cell_type": "code",
   "execution_count": 33,
   "id": "e70fd14e",
   "metadata": {},
   "outputs": [],
   "source": [
    "def calculateFinalScore(score_sales,dis_sales,score_customer,dis_customer):\n",
    "    # Create a combined score composed of correlation and magnitude\n",
    "    corr_weight = 0.5\n",
    "    mag_dist_weight = 0.5\n",
    "\n",
    "    combine_sale_score = score_sales*corr_weight + dis_sales*mag_dist_weight\n",
    "    combine_customer_score = score_customer*corr_weight + dis_customer*mag_dist_weight\n",
    "    \n",
    "    # Create final score by combine sales and customer score together \n",
    "    final_score = (combine_sale_score + combine_customer_score)/2\n",
    "    \n",
    "    # Final the store with highest score to be the control store\n",
    "    control_store_id = final_score.sort_values(by='score', ascending=False).head(1)\n",
    "\n",
    "    return control_store_id "
   ]
  },
  {
   "cell_type": "markdown",
   "id": "9da66441",
   "metadata": {},
   "source": [
    "### Create new features "
   ]
  },
  {
   "cell_type": "code",
   "execution_count": 4,
   "id": "1bcfa597",
   "metadata": {},
   "outputs": [],
   "source": [
    "def get_type(row, trial_store, control_store):\n",
    "    if row['STORE_NBR'] == trial_store:\n",
    "        return 'Trial'\n",
    "    elif row['STORE_NBR'] == control_store:\n",
    "        return 'Control'\n",
    "    else:\n",
    "        return 'Other' "
   ]
  },
  {
   "cell_type": "code",
   "execution_count": 5,
   "id": "3138103a",
   "metadata": {},
   "outputs": [],
   "source": [
    "def createType(m_data,trial_store, control_store):\n",
    "    # Create a new column type \n",
    "    flat = m_data.reset_index().query('y_m < \"2019-02\"')\n",
    "    flat['Type'] = flat.apply(lambda x: get_type(x, trial_store,control_store),axis=1)\n",
    " \n",
    "    return flat"
   ]
  },
  {
   "cell_type": "code",
   "execution_count": 14,
   "id": "e9bdec35",
   "metadata": {},
   "outputs": [],
   "source": [
    "def scaleAndCalculatePctDiff(pre_trial_df,whole_df, trial_store, control_store, col_name):\n",
    "\n",
    "    \n",
    "    # Scale pre‐trial control sales to match pre‐trial trial store sales\n",
    "    if col_name == 'TOT_SALES':\n",
    "        trial_sum = pre_trial_df.query('STORE_NBR == {}'.format(trial_store)).TOT_SALES.sum()\n",
    "        control_sum = pre_trial_df.query('STORE_NBR == {}'.format(control_store)).TOT_SALES.sum()\n",
    "        \n",
    "    if col_name == 'LYLTY_CARD_NBR':\n",
    "        trial_sum = pre_trial_df.query('STORE_NBR == {}'.format(trial_store)).LYLTY_CARD_NBR.nunique()\n",
    "        control_sum = pre_trial_df.query('STORE_NBR == {}'.format(control_store)).LYLTY_CARD_NBR.nunique()\n",
    "        \n",
    "    scale_factor = trial_sum / control_sum\n",
    "    \n",
    "    #print(whole_df.reset_index().query('STORE_NBR == {}'.format(trial_store)))\n",
    "    # Apply the scaling factor\n",
    "    flat_trial_whole = whole_df.reset_index().query('STORE_NBR == {}'.format(trial_store)).drop(columns='STORE_NBR')\n",
    "    flat_control_whole = whole_df.reset_index().query('STORE_NBR == {}'.format(control_store)).drop(columns='STORE_NBR')\n",
    "    \n",
    "    if col_name == 'TOT_SALES':\n",
    "        merge_whole = pd.merge(flat_trial_whole,flat_control_whole,how='inner',on='y_m').rename(columns={'TOT_SALES_x':'Trial','TOT_SALES_y':'Control'})\n",
    "    if col_name == 'LYLTY_CARD_NBR':\n",
    "        merge_whole = pd.merge(flat_trial_whole,flat_control_whole,how='inner',on='y_m').rename(columns={'LYLTY_CARD_NBR_x':'Trial','LYLTY_CARD_NBR_y':'Control'})\n",
    "        \n",
    "    \n",
    "    merge_whole['Control'] = merge_whole['Control']*scale_factor\n",
    "\n",
    "    # Calculate the percentage difference between scaled control sales and trial sales\n",
    "    merge_whole['pctDiff'] = abs((merge_whole['Control'] - merge_whole['Trial'])/merge_whole['Control'])\n",
    "    \n",
    "    return merge_whole"
   ]
  },
  {
   "cell_type": "code",
   "execution_count": 17,
   "id": "ca17b408",
   "metadata": {},
   "outputs": [],
   "source": [
    "def add_95_5_data(trial_data, std_pre_trial, control_data, col_name):\n",
    "    # Create new column Type \n",
    "    control_95 = control_data.copy()\n",
    "    control_5 = control_data.copy()\n",
    "      \n",
    "    control_95[col_name] = control_data[col_name] * (1 + std_pre_trial*2)    \n",
    "    control_5[col_name] = control_data[col_name] * (1 - std_pre_trial*2)\n",
    "        \n",
    "    control_95['Type'] = 'Control 95th % confidence interval'\n",
    "    control_5['Type'] = 'Control 5th % confidenceinterval'\n",
    "    \n",
    "    trial_data['Type'] = 'Trial'\n",
    "    control_data['Type'] = 'Control'\n",
    "\n",
    "    list_df = [trial_data, control_data, control_5,control_95]\n",
    "    df_with_conf_interval = pd.concat(list_df)\n",
    "    \n",
    "    return df_with_conf_interval"
   ]
  },
  {
   "cell_type": "code",
   "execution_count": null,
   "id": "7fedcb4a",
   "metadata": {},
   "outputs": [],
   "source": []
  },
  {
   "cell_type": "markdown",
   "id": "8a727323",
   "metadata": {},
   "source": [
    "### Plot "
   ]
  },
  {
   "cell_type": "code",
   "execution_count": 35,
   "id": "2dd7b914",
   "metadata": {},
   "outputs": [],
   "source": [
    "def plot_m_data(data,col_name,title):\n",
    "    # Plot pre-trial period monthly sales for control, trial and other stores\n",
    "    plt.style.use('seaborn')\n",
    "    data.groupby(['Type','y_m']).mean()[col_name].swaplevel().unstack().plot(figsize=(10,5))\n",
    "    plt.xlabel('Month of operation')\n",
    "    plt.ylabel('Total {}'.format(title))\n",
    "    plt.title('Avg monthly store {} by month over time'.format(title), fontsize = 15)\n",
    "    plt.legend( ncol = 1, framealpha = 1);"
   ]
  },
  {
   "cell_type": "code",
   "execution_count": null,
   "id": "91f3ea09",
   "metadata": {},
   "outputs": [],
   "source": []
  }
 ],
 "metadata": {
  "kernelspec": {
   "display_name": "Python 3 (ipykernel)",
   "language": "python",
   "name": "python3"
  },
  "language_info": {
   "codemirror_mode": {
    "name": "ipython",
    "version": 3
   },
   "file_extension": ".py",
   "mimetype": "text/x-python",
   "name": "python",
   "nbconvert_exporter": "python",
   "pygments_lexer": "ipython3",
   "version": "3.8.8"
  }
 },
 "nbformat": 4,
 "nbformat_minor": 5
}
